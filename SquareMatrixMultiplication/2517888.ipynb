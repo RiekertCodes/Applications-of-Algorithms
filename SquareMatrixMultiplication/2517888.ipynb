{
  "nbformat": 4,
  "nbformat_minor": 0,
  "metadata": {
    "colab": {
      "name": "Copy of Copy of AA_Assignment1.ipynb",
      "provenance": [],
      "collapsed_sections": []
    },
    "kernelspec": {
      "display_name": "Python 3",
      "name": "python3"
    },
    "language_info": {
      "name": "python"
    },
    "accelerator": "GPU"
  },
  "cells": [
    {
      "cell_type": "code",
      "metadata": {
        "id": "Y3goqe1j-pFB"
      },
      "source": [
        "import numpy as np\n",
        "import time\n",
        "import random\n",
        "from math import ceil, log"
      ],
      "execution_count": null,
      "outputs": []
    },
    {
      "cell_type": "code",
      "metadata": {
        "id": "ZP_JHntCcox9"
      },
      "source": [
        "def create_matrix(dim,type):\n",
        "  arr = np.zeros((dim,dim))\n",
        "  for i in range(0,dim):\n",
        "    for j in range(0,dim):\n",
        "      if type == 'int':\n",
        "        num = random.randint(0,11)\n",
        "      elif type == 'float':\n",
        "        num = random.uniform(0, 11)\n",
        "      arr[i][j] = num\n",
        "  return np.array(arr)\n"
      ],
      "execution_count": null,
      "outputs": []
    },
    {
      "cell_type": "markdown",
      "metadata": {
        "id": "zWl0GGDH99Aj"
      },
      "source": [
        "Square matric Multiply"
      ]
    },
    {
      "cell_type": "code",
      "metadata": {
        "id": "oQ-YNj125L37"
      },
      "source": [
        "def smm(A, B):\n",
        "        n = A.shape[0]\n",
        "        C = np.zeros((n, n))\n",
        "        C = C.astype(np.int64)\n",
        "        for i in range(n):\n",
        "            for j in range(n):\n",
        "                C[i, j] = 0\n",
        "                for k in range(n):\n",
        "                    C[i, j] += A[i, k] * B[k, j]\n",
        "        return C"
      ],
      "execution_count": null,
      "outputs": []
    },
    {
      "cell_type": "markdown",
      "metadata": {
        "id": "PTrXWqE1xErY"
      },
      "source": [
        "Square Matrix Multiply Recursively"
      ]
    },
    {
      "cell_type": "code",
      "metadata": {
        "id": "erwu8eKaBEuJ"
      },
      "source": [
        "def square_matrix_multiply_recursive(A, B):\n",
        "        n = A.shape[0]\n",
        "        C = np.zeros((n, n))\n",
        "        C = C.astype(np.float64)\n",
        "        if n == 1:\n",
        "            C[0, 0] = A[0, 0] * B[0, 0]\n",
        "        else:\n",
        "            half_n = int(n / 2)\n",
        "            C[0 : half_n, 0 : half_n] = square_matrix_multiply_recursive(A[0 : half_n, 0 : half_n], B[0 : half_n, 0 : half_n]) + square_matrix_multiply_recursive(A[0 : half_n, half_n : n], B[half_n : n, 0 : half_n])\n",
        "            C[0 : half_n, half_n : n] = square_matrix_multiply_recursive(A[0 : half_n, 0 : half_n], B[0 : half_n, half_n : n]) + square_matrix_multiply_recursive(A[0 : half_n, half_n : n], B[half_n : n, half_n : n])\n",
        "            C[half_n : n, 0 : half_n] = square_matrix_multiply_recursive(A[half_n : n, 0 : half_n], B[0 : half_n, 0 : half_n]) + square_matrix_multiply_recursive(A[half_n : n, half_n : n], B[half_n : n, 0 : half_n])\n",
        "            C[half_n : n, half_n : n] = square_matrix_multiply_recursive(A[half_n : n, 0 : half_n], B[0 : half_n, half_n : n]) + square_matrix_multiply_recursive(A[half_n : n, half_n : n], B[half_n : n, half_n : n])\n",
        "        return C\n"
      ],
      "execution_count": null,
      "outputs": []
    },
    {
      "cell_type": "markdown",
      "metadata": {
        "id": "x9mxPqXxKs6e"
      },
      "source": [
        "Strattens method"
      ]
    },
    {
      "cell_type": "code",
      "metadata": {
        "id": "8D70AWj_Q2aq"
      },
      "source": [
        "def square_matrix_multiply_recursive_strassen(A, B):\n",
        "        n = A.shape[0]\n",
        "        C = np.zeros((n, n))\n",
        "        C = C.astype(np.float64)\n",
        "        if n == 1:\n",
        "            C[0, 0] = A[0, 0] * B[0, 0]\n",
        "        else:\n",
        "            half_n = int(n / 2)\n",
        "            # Sums\n",
        "            s0 = B[0 : half_n, half_n : n] - B[half_n : n, half_n : n]\n",
        "            s1 = A[0 : half_n, 0 : half_n] + A[0 : half_n, half_n : n]\n",
        "            s2 = A[half_n : n, 0 : half_n] + A[half_n : n, half_n : n]\n",
        "            s3 = B[half_n : n, 0 : half_n] - B[0 : half_n, 0 : half_n]\n",
        "            s4 = A[0 : half_n, 0 : half_n] + A[half_n : n, half_n : n]\n",
        "            s5 = B[0 : half_n, 0 : half_n] + B[half_n : n, half_n : n]\n",
        "            s6 = A[0 : half_n, half_n : n] - A[half_n : n, half_n : n]\n",
        "            s7 = B[half_n : n, 0 : half_n] + B[half_n : n, half_n : n]\n",
        "            s8 = A[0 : half_n, 0 : half_n] - A[half_n : n, 0 : half_n]\n",
        "            s9 = B[0 : half_n, 0 : half_n] + B[0 : half_n, half_n : n]\n",
        "            # Product of numbers\n",
        "            p0 = square_matrix_multiply_recursive_strassen(A[0 : half_n, 0 : half_n], s0)\n",
        "            p1 = square_matrix_multiply_recursive_strassen(s1, B[half_n : n, half_n : n])\n",
        "            p2 = square_matrix_multiply_recursive_strassen(s2, B[0 : half_n, 0 : half_n])\n",
        "            p3 = square_matrix_multiply_recursive_strassen(A[half_n : n, half_n : n], s3)\n",
        "            p4 = square_matrix_multiply_recursive_strassen(s4, s5)\n",
        "            p5 = square_matrix_multiply_recursive_strassen(s6, s7)\n",
        "            p6 = square_matrix_multiply_recursive_strassen(s8, s9)\n",
        "            # Parts of the new matrix equal summatrices\n",
        "            C[0 : half_n, 0 : half_n] = p4 + p3 - p1 + p5\n",
        "            C[0 : half_n, half_n : n] = p0 + p1\n",
        "            C[half_n : n, 0 : half_n] = p2 + p3\n",
        "            C[half_n : n, half_n : n] = p4 + p0 - p2 - p6\n",
        "        return C "
      ],
      "execution_count": null,
      "outputs": []
    },
    {
      "cell_type": "markdown",
      "metadata": {
        "id": "9AsbOUM-9KZd"
      },
      "source": [
        "# Running time analysis"
      ]
    },
    {
      "cell_type": "markdown",
      "metadata": {
        "id": "ZpsCByGN0hFK"
      },
      "source": [
        "1.Collect Runtime data and plot"
      ]
    },
    {
      "cell_type": "markdown",
      "metadata": {
        "id": "0W9Ut92BMqUt"
      },
      "source": [
        "Testing algorithms first on only powers of 2"
      ]
    },
    {
      "cell_type": "code",
      "metadata": {
        "id": "HiWai6W330Mn"
      },
      "source": [
        "def get_runtime_smm(n):\n",
        "  rtime = []\n",
        "  llist = []\n",
        "  for i in range(2,n):\n",
        "    A = create_matrix(2**i)\n",
        "    B = create_matrix(2**i)\n",
        "    t0 = time.time()\n",
        "    smm(A,B)\n",
        "    t1 = time.time()\n",
        "    tot = t1-t0\n",
        "    rtime.append(tot)\n",
        "    llist.append(i)\n",
        "  return rtime, llist"
      ],
      "execution_count": null,
      "outputs": []
    },
    {
      "cell_type": "code",
      "metadata": {
        "id": "dSWpzWDTMcDk"
      },
      "source": [
        "def get_runtime_smmr(n):\n",
        "  rtime = []\n",
        "  llist = []\n",
        "  for i in range(2,n):\n",
        "    A = create_matrix(2**i)\n",
        "    B = create_matrix(2**i)\n",
        "    t0 = time.time()\n",
        "    square_matrix_multiply_recursive(A,B)\n",
        "    t1 = time.time()\n",
        "    tot = t1-t0\n",
        "    rtime.append(tot)\n",
        "    llist.append(i)\n",
        "  return rtime, llist"
      ],
      "execution_count": null,
      "outputs": []
    },
    {
      "cell_type": "code",
      "metadata": {
        "id": "31lPi-5gMiZG"
      },
      "source": [
        "def get_runtime_strassen(n):\n",
        "  rtime = []\n",
        "  llist = []\n",
        "  for i in range(2,n):\n",
        "    A = create_matrix(2**i)\n",
        "    B = create_matrix(2**i)\n",
        "    t0 = time.time()\n",
        "    square_matrix_multiply_recursive_strassen(A,B)\n",
        "    t1 = time.time()\n",
        "    tot = t1-t0\n",
        "    rtime.append(tot)\n",
        "    llist.append(i)\n",
        "  return rtime, llist"
      ],
      "execution_count": null,
      "outputs": []
    },
    {
      "cell_type": "code",
      "metadata": {
        "id": "KEjU7Q-oCJhA"
      },
      "source": [
        "runtime_smm, list_smm = get_runtime_smm(10)"
      ],
      "execution_count": null,
      "outputs": []
    },
    {
      "cell_type": "code",
      "metadata": {
        "id": "B5K2RaVSCVUK"
      },
      "source": [
        "runtime_smmr, list_smmr = get_runtime_smmr(10)"
      ],
      "execution_count": null,
      "outputs": []
    },
    {
      "cell_type": "code",
      "metadata": {
        "id": "TNdGdaiwNFzi"
      },
      "source": [
        "runtime_strassen, list_strassen = get_runtime_strassen(10)"
      ],
      "execution_count": null,
      "outputs": []
    },
    {
      "cell_type": "code",
      "metadata": {
        "colab": {
          "base_uri": "https://localhost:8080/"
        },
        "id": "fzMY80BoNBRG",
        "outputId": "2c64b33f-c7d0-429b-c8e0-69b6bfa561e8"
      },
      "source": [
        "runtime_smm"
      ],
      "execution_count": null,
      "outputs": [
        {
          "output_type": "execute_result",
          "data": {
            "text/plain": [
              "[0.0005819797515869141,\n",
              " 0.0038466453552246094,\n",
              " 0.01379847526550293,\n",
              " 0.11771941184997559,\n",
              " 0.9123685359954834,\n",
              " 7.245117902755737,\n",
              " 57.568323612213135,\n",
              " 452.9518346786499]"
            ]
          },
          "metadata": {},
          "execution_count": 17
        }
      ]
    },
    {
      "cell_type": "code",
      "metadata": {
        "colab": {
          "base_uri": "https://localhost:8080/"
        },
        "id": "jCOjkqAzQ3tO",
        "outputId": "df8cdcde-378b-45e2-e0dc-cceeaa844e3f"
      },
      "source": [
        "runtime_smmr"
      ],
      "execution_count": null,
      "outputs": [
        {
          "output_type": "execute_result",
          "data": {
            "text/plain": [
              "[0.0005974769592285156,\n",
              " 0.004620790481567383,\n",
              " 0.0170745849609375,\n",
              " 0.1320343017578125,\n",
              " 1.1052844524383545,\n",
              " 8.692685842514038,\n",
              " 67.65030217170715,\n",
              " 538.9333045482635]"
            ]
          },
          "metadata": {},
          "execution_count": 18
        }
      ]
    },
    {
      "cell_type": "code",
      "metadata": {
        "colab": {
          "base_uri": "https://localhost:8080/"
        },
        "id": "DcIYTFqzQ0uV",
        "outputId": "46d1f15e-807b-453d-b5d9-ee480fa45fb0"
      },
      "source": [
        "runtime_strassen"
      ],
      "execution_count": null,
      "outputs": [
        {
          "output_type": "execute_result",
          "data": {
            "text/plain": [
              "[0.0010759830474853516,\n",
              " 0.011226177215576172,\n",
              " 0.01531839370727539,\n",
              " 0.12060236930847168,\n",
              " 0.7752599716186523,\n",
              " 5.217729806900024,\n",
              " 37.18712663650513,\n",
              " 262.749968290329]"
            ]
          },
          "metadata": {},
          "execution_count": 19
        }
      ]
    },
    {
      "cell_type": "code",
      "metadata": {
        "id": "GuEQSXkbME4p"
      },
      "source": [
        "for l in list_smm:\n",
        "  l = 2**l\n",
        "for l in list_smmr:\n",
        "  l = 2**l\n",
        "for l in list_strassen:\n",
        "  l = 2**l"
      ],
      "execution_count": null,
      "outputs": []
    },
    {
      "cell_type": "code",
      "metadata": {
        "id": "4aBP4BEOdpDD"
      },
      "source": [
        "import matplotlib.pyplot as plt"
      ],
      "execution_count": null,
      "outputs": []
    },
    {
      "cell_type": "code",
      "metadata": {
        "colab": {
          "base_uri": "https://localhost:8080/",
          "height": 313
        },
        "id": "pzB9EnV-CwVE",
        "outputId": "b269e86e-37cc-47d9-8248-9e186bcbe48a"
      },
      "source": [
        "plt.plot(list_smm,runtime_smm)\n",
        "plt.plot(list_smmr,runtime_smmr)\n",
        "plt.plot(list_strassen,runtime_strassen)\n",
        "plt.title('Run times for each algorithm over matrix dimension')\n",
        "plt.xlabel('powers of 2')\n",
        "plt.ylabel('running time(s)')\n",
        "plt.legend([\"Square matrix multiply\", \"Square matrix recursive\",\"Strassen method\"])"
      ],
      "execution_count": null,
      "outputs": [
        {
          "output_type": "execute_result",
          "data": {
            "text/plain": [
              "<matplotlib.legend.Legend at 0x7fec069c8850>"
            ]
          },
          "metadata": {},
          "execution_count": 52
        },
        {
          "output_type": "display_data",
          "data": {
            "image/png": "[encoded data removed]",
            "text/plain": [
              "<Figure size 432x288 with 1 Axes>"
            ]
          },
          "metadata": {
            "needs_background": "light"
          }
        }
      ]
    },
    {
      "cell_type": "markdown",
      "metadata": {
        "id": "LYPDaOwdSD1e"
      },
      "source": [
        "Recursive has worse time becuase of overhead."
      ]
    },
    {
      "cell_type": "markdown",
      "metadata": {
        "id": "xauCnP9nSKxl"
      },
      "source": [
        "Get runtimes of non square dimensions which were padded to become squares"
      ]
    },
    {
      "cell_type": "code",
      "metadata": {
        "id": "kLEevzdk9TcG"
      },
      "source": [
        "def check_if_powerOf2_matrix(matrix):\n",
        "  n = matrix.shape[0]\n",
        "  nextPowerTwo = lambda n: 2 ** int(ceil(log(n, 2)))\n",
        "  m = nextPowerTwo(n)\n",
        "  tot = m-n\n",
        "  matrix = np.pad(matrix,((0,tot),(0,tot)))\n",
        "  return matrix"
      ],
      "execution_count": null,
      "outputs": []
    },
    {
      "cell_type": "code",
      "metadata": {
        "id": "ZeDsodPgSjmz"
      },
      "source": [
        "def get_runtime_smm2():\n",
        "  rtime = []\n",
        "  llist = []\n",
        "  dim_list = [3, 6, 12, 24, 48, 96, 192]\n",
        "  for i in dim_list:\n",
        "    A = create_matrix(i,'int')\n",
        "    B = create_matrix(i,'int')\n",
        "    Ap = check_if_powerOf2_matrix(A)\n",
        "    Bp = check_if_powerOf2_matrix(B)\n",
        "    t0 = time.time()\n",
        "    smm(Ap,Bp)\n",
        "    t1 = time.time()\n",
        "    tot = t1-t0\n",
        "    rtime.append(tot)\n",
        "    llist.append(i)\n",
        "  return rtime, llist"
      ],
      "execution_count": null,
      "outputs": []
    },
    {
      "cell_type": "code",
      "metadata": {
        "id": "mbtdR008Sy8d"
      },
      "source": [
        "def get_runtime_smmr2():\n",
        "  rtime = []\n",
        "  llist = []\n",
        "  dim_list = [3, 6, 12, 24, 48, 96, 192]\n",
        "  for i in dim_list:\n",
        "    A = create_matrix(i,'int')\n",
        "    B = create_matrix(i,'int')\n",
        "    Ap = check_if_powerOf2_matrix(A)\n",
        "    Bp = check_if_powerOf2_matrix(B)\n",
        "    t0 = time.time()\n",
        "    square_matrix_multiply_recursive(Ap,Bp)\n",
        "    t1 = time.time()\n",
        "    tot = t1-t0\n",
        "    rtime.append(tot)\n",
        "    llist.append(i)\n",
        "  return rtime, llist"
      ],
      "execution_count": null,
      "outputs": []
    },
    {
      "cell_type": "code",
      "metadata": {
        "id": "U4QN-xjbS34C"
      },
      "source": [
        "def get_runtime_strassen2():\n",
        "  rtime = []\n",
        "  llist = []\n",
        "  dim_list = [3, 6, 12, 24, 48, 96, 192]\n",
        "  for i in dim_list:\n",
        "    A = create_matrix(i,'int')\n",
        "    B = create_matrix(i,'int')\n",
        "    Ap = check_if_powerOf2_matrix(A)\n",
        "    Bp = check_if_powerOf2_matrix(B)\n",
        "    t0 = time.time()\n",
        "    square_matrix_multiply_recursive_strassen(Ap,Bp)\n",
        "    t1 = time.time()\n",
        "    tot = t1-t0\n",
        "    rtime.append(tot)\n",
        "    llist.append(i)\n",
        "  return rtime, llist"
      ],
      "execution_count": null,
      "outputs": []
    },
    {
      "cell_type": "code",
      "metadata": {
        "id": "rXXX6FxkS6Qx"
      },
      "source": [
        "runtime_smm2, list_smm2 = get_runtime_smm2()"
      ],
      "execution_count": null,
      "outputs": []
    },
    {
      "cell_type": "code",
      "metadata": {
        "id": "XKb2hTLCTB9G"
      },
      "source": [
        "runtime_smmr2, list_smmr2 = get_runtime_smmr2()"
      ],
      "execution_count": null,
      "outputs": []
    },
    {
      "cell_type": "code",
      "metadata": {
        "id": "Kaqbeio5TCdh"
      },
      "source": [
        "runtime_strassen2, list_strassen2 = get_runtime_strassen2()"
      ],
      "execution_count": null,
      "outputs": []
    },
    {
      "cell_type": "code",
      "metadata": {
        "colab": {
          "base_uri": "https://localhost:8080/"
        },
        "id": "qpWQ-wDFTPjg",
        "outputId": "3097549b-d236-4ca5-c324-f99ebce6446c"
      },
      "source": [
        "runtime_smm2"
      ],
      "execution_count": null,
      "outputs": [
        {
          "output_type": "execute_result",
          "data": {
            "text/plain": [
              "[0.0005033016204833984,\n",
              " 0.0032744407653808594,\n",
              " 0.013918638229370117,\n",
              " 0.1146993637084961,\n",
              " 0.9193108081817627,\n",
              " 7.067389488220215,\n",
              " 55.5192985534668]"
            ]
          },
          "metadata": {},
          "execution_count": 44
        }
      ]
    },
    {
      "cell_type": "code",
      "metadata": {
        "colab": {
          "base_uri": "https://localhost:8080/"
        },
        "id": "u_iZLK3MTXFC",
        "outputId": "d4523424-5d42-45ed-c0b2-8dfcc74e9da7"
      },
      "source": [
        "runtime_smmr2"
      ],
      "execution_count": null,
      "outputs": [
        {
          "output_type": "execute_result",
          "data": {
            "text/plain": [
              "[0.00060272216796875,\n",
              " 0.007300376892089844,\n",
              " 0.018898487091064453,\n",
              " 0.1363201141357422,\n",
              " 1.0886452198028564,\n",
              " 8.303098917007446,\n",
              " 66.39112949371338]"
            ]
          },
          "metadata": {},
          "execution_count": 45
        }
      ]
    },
    {
      "cell_type": "code",
      "metadata": {
        "colab": {
          "base_uri": "https://localhost:8080/"
        },
        "id": "5EZwtkA5TZ7o",
        "outputId": "8a6dcc6b-caf1-46a6-b299-577d9af439ee"
      },
      "source": [
        "runtime_strassen2"
      ],
      "execution_count": null,
      "outputs": [
        {
          "output_type": "execute_result",
          "data": {
            "text/plain": [
              "[0.0015239715576171875,\n",
              " 0.009991884231567383,\n",
              " 0.014560222625732422,\n",
              " 0.10950326919555664,\n",
              " 0.7440929412841797,\n",
              " 5.464939594268799,\n",
              " 37.91157412528992]"
            ]
          },
          "metadata": {},
          "execution_count": 46
        }
      ]
    },
    {
      "cell_type": "code",
      "metadata": {
        "id": "oXbZYsHBTcc6"
      },
      "source": [
        "dim_list = [3, 6, 12, 24, 48, 96, 192]"
      ],
      "execution_count": null,
      "outputs": []
    },
    {
      "cell_type": "code",
      "metadata": {
        "colab": {
          "base_uri": "https://localhost:8080/",
          "height": 313
        },
        "id": "C44CVq8gTc7p",
        "outputId": "f7a7aa82-d046-4a91-ea14-b6b3495b8fb0"
      },
      "source": [
        " plt.plot(dim_list,runtime_smm2)\n",
        " plt.plot(dim_list,runtime_smmr2)\n",
        " plt.plot(dim_list,runtime_strassen2)\n",
        " plt.title('Run times for each algorithm over matrix dimension')\n",
        " plt.xlabel('input sizes - these were padded to be power of 2')\n",
        " plt.ylabel('running time(s)')\n",
        " plt.legend([\"Square matrix multiply\", \"Square matrix recursive\",\"Strassen method\"])"
      ],
      "execution_count": null,
      "outputs": [
        {
          "output_type": "execute_result",
          "data": {
            "text/plain": [
              "<matplotlib.legend.Legend at 0x7fec06a3ff90>"
            ]
          },
          "metadata": {},
          "execution_count": 51
        },
        {
          "output_type": "display_data",
          "data": {
            "image/png": "[encoded data removed]",
            "text/plain": [
              "<Figure size 432x288 with 1 Axes>"
            ]
          },
          "metadata": {
            "needs_background": "light"
          }
        }
      ]
    },
    {
      "cell_type": "code",
      "metadata": {
        "id": "3kXZapSXTf0w"
      },
      "source": [
        ""
      ],
      "execution_count": null,
      "outputs": []
    },
    {
      "cell_type": "markdown",
      "metadata": {
        "id": "VlbTCWS1yrgs"
      },
      "source": [
        "3.Changing matrices types"
      ]
    },
    {
      "cell_type": "code",
      "metadata": {
        "id": "_p5EwQ1YyuFo"
      },
      "source": [
        ""
      ],
      "execution_count": null,
      "outputs": []
    }
  ]
}